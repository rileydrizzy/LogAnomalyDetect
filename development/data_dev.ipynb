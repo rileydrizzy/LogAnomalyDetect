{
 "cells": [
  {
   "cell_type": "code",
   "execution_count": 1,
   "metadata": {},
   "outputs": [
    {
     "data": {
      "text/plain": [
       "'/workspaces/log_anomaly'"
      ]
     },
     "execution_count": 1,
     "metadata": {},
     "output_type": "execute_result"
    }
   ],
   "source": [
    "import os \n",
    "os.chdir('../')\n",
    "%pwd"
   ]
  },
  {
   "cell_type": "code",
   "execution_count": 2,
   "metadata": {},
   "outputs": [
    {
     "name": "stderr",
     "output_type": "stream",
     "text": [
      "[nltk_data] Downloading package stopwords to\n",
      "[nltk_data]     /home/codespace/nltk_data...\n",
      "[nltk_data]   Package stopwords is already up-to-date!\n"
     ]
    }
   ],
   "source": [
    "import re\n",
    "import string\n",
    "\n",
    "import hydra\n",
    "import nltk\n",
    "import polars as pl\n",
    "from nltk.corpus import stopwords\n",
    "from omegaconf import DictConfig\n",
    "\n",
    "nltk.download(\"stopwords\")\n",
    "\n",
    "\n",
    "def clean_text(text_row):\n",
    "    \"\"\"performs preprocessing steps on each text row removing numbers,\n",
    "    stopwords, punctuation and any symbols\n",
    "\n",
    "\n",
    "    Returns\n",
    "    -------\n",
    "    clean_text : row\n",
    "        A cleaned and preprocessed text\n",
    "    \"\"\"\n",
    "\n",
    "    text_row = text_row.lower()\n",
    "    text_row = re.sub(\"<[^>]*>\", \"\", text_row)\n",
    "    text_row = re.sub(r\"[^a-zA-Z\\s]\", \"\", text_row)\n",
    "    stop_words = set(stopwords.words(\"english\"))\n",
    "    text_row = [\n",
    "        word\n",
    "        for word in text_row.split()\n",
    "        if word not in stop_words and word not in string.punctuation\n",
    "    ]\n",
    "    text_cleaned = \" \".join(word for word in text_row)\n",
    "    return text_cleaned\n",
    "\n",
    "\n",
    "def label_encoder(target_df):\n",
    "    \"\"\"performs label encoding for target label\n",
    "\n",
    "\n",
    "    Returns\n",
    "    -------\n",
    "    label : int\n",
    "        return either 0 for normal or 1 for abnormal\n",
    "    \"\"\"\n",
    "\n",
    "    if target_df == \"normal\":\n",
    "        label = 0\n",
    "    else:\n",
    "        label = 1\n",
    "    return label\n",
    "\n",
    "\n",
    "def preprocess_and_encode(file_path, save_path):\n",
    "    \"\"\"_summary_\n",
    "\n",
    "    Parameters\n",
    "    ----------\n",
    "    file_path : _type_\n",
    "        _description_\n",
    "    save_path : _type_\n",
    "        _description_\n",
    "    \"\"\"\n",
    "    dataframe = pl.read_parquet(file_path)\n",
    "    dataframe = dataframe.with_columns(\n",
    "        pl.col(\"Target\").apply(label_encoder, return_dtype=pl.Int32)\n",
    "    )\n",
    "    dataframe = dataframe.with_columns(pl.col(\"Log\").apply(clean_text))\n",
    "    dataframe.write_parquet(file=save_path, compression=\"gzip\")\n",
    "    return dataframe\n"
   ]
  },
  {
   "cell_type": "code",
   "execution_count": 12,
   "metadata": {},
   "outputs": [
    {
     "data": {
      "text/html": [
       "<div><style>\n",
       ".dataframe > thead > tr > th,\n",
       ".dataframe > tbody > tr > td {\n",
       "  text-align: right;\n",
       "}\n",
       "</style>\n",
       "<small>shape: (5, 2)</small><table border=\"1\" class=\"dataframe\"><thead><tr><th>Log</th><th>Target</th></tr><tr><td>str</td><td>str</td></tr></thead><tbody><tr><td>&quot; 1119803499 20…</td><td>&quot;normal&quot;</td></tr><tr><td>&quot; 1119803105 20…</td><td>&quot;normal&quot;</td></tr><tr><td>&quot; 1121496169 20…</td><td>&quot;normal&quot;</td></tr><tr><td>&quot; 1120968564 20…</td><td>&quot;normal&quot;</td></tr><tr><td>&quot; 1120953205 20…</td><td>&quot;normal&quot;</td></tr></tbody></table></div>"
      ],
      "text/plain": [
       "shape: (5, 2)\n",
       "┌───────────────────────────────────┬────────┐\n",
       "│ Log                               ┆ Target │\n",
       "│ ---                               ┆ ---    │\n",
       "│ str                               ┆ str    │\n",
       "╞═══════════════════════════════════╪════════╡\n",
       "│  1119803499 2005.06.26 R03-M0-NC… ┆ normal │\n",
       "│  1119803105 2005.06.26 R04-M0-NE… ┆ normal │\n",
       "│  1121496169 2005.07.15 R06-M0-N6… ┆ normal │\n",
       "│  1120968564 2005.07.09 R26-M0-N0… ┆ normal │\n",
       "│  1120953205 2005.07.09 R27-M0-N7… ┆ normal │\n",
       "└───────────────────────────────────┴────────┘"
      ]
     },
     "execution_count": 12,
     "metadata": {},
     "output_type": "execute_result"
    }
   ],
   "source": [
    "file = 'dev.gzip'\n",
    "save_path = 'test/test.gzip'\n",
    "dev_data = pl.read_parquet(file)\n",
    "dev_data.head()"
   ]
  },
  {
   "cell_type": "code",
   "execution_count": 13,
   "metadata": {},
   "outputs": [],
   "source": [
    "preprocess_and_encode(file_path= file, save_path=save_path)"
   ]
  },
  {
   "cell_type": "code",
   "execution_count": 11,
   "metadata": {},
   "outputs": [
    {
     "data": {
      "text/html": [
       "<div><style>\n",
       ".dataframe > thead > tr > th,\n",
       ".dataframe > tbody > tr > td {\n",
       "  text-align: right;\n",
       "}\n",
       "</style>\n",
       "<small>shape: (5, 2)</small><table border=\"1\" class=\"dataframe\"><thead><tr><th>Log</th><th>Target</th></tr><tr><td>str</td><td>i32</td></tr></thead><tbody><tr><td>&quot;rmnccju rmnccj…</td><td>0</td></tr><tr><td>&quot;rmnecju rmnecj…</td><td>0</td></tr><tr><td>&quot;rmncju rmncju …</td><td>0</td></tr><tr><td>&quot;rmncju rmncju …</td><td>0</td></tr><tr><td>&quot;rmncju rmncju …</td><td>0</td></tr></tbody></table></div>"
      ],
      "text/plain": [
       "shape: (5, 2)\n",
       "┌───────────────────────────────────┬────────┐\n",
       "│ Log                               ┆ Target │\n",
       "│ ---                               ┆ ---    │\n",
       "│ str                               ┆ i32    │\n",
       "╞═══════════════════════════════════╪════════╡\n",
       "│ rmnccju rmnccju ras kernel info … ┆ 0      │\n",
       "│ rmnecju rmnecju ras kernel info … ┆ 0      │\n",
       "│ rmncju rmncju ras kernel info ge… ┆ 0      │\n",
       "│ rmncju rmncju ras kernel info ge… ┆ 0      │\n",
       "│ rmncju rmncju ras kernel info ge… ┆ 0      │\n",
       "└───────────────────────────────────┴────────┘"
      ]
     },
     "execution_count": 11,
     "metadata": {},
     "output_type": "execute_result"
    }
   ],
   "source": [
    "clean_df = pl.read_parquet(save_path)\n",
    "clean_df.head()"
   ]
  },
  {
   "cell_type": "code",
   "execution_count": 14,
   "metadata": {},
   "outputs": [
    {
     "data": {
      "text/html": [
       "<div><style>\n",
       ".dataframe > thead > tr > th,\n",
       ".dataframe > tbody > tr > td {\n",
       "  text-align: right;\n",
       "}\n",
       "</style>\n",
       "<small>shape: (5, 2)</small><table border=\"1\" class=\"dataframe\"><thead><tr><th>Log</th><th>Target</th></tr><tr><td>str</td><td>i32</td></tr></thead><tbody><tr><td>&quot;rmnccju rmnccj…</td><td>0</td></tr><tr><td>&quot;rmnecju rmnecj…</td><td>0</td></tr><tr><td>&quot;rmncju rmncju …</td><td>0</td></tr><tr><td>&quot;rmncju rmncju …</td><td>0</td></tr><tr><td>&quot;rmncju rmncju …</td><td>0</td></tr></tbody></table></div>"
      ],
      "text/plain": [
       "shape: (5, 2)\n",
       "┌───────────────────────────────────┬────────┐\n",
       "│ Log                               ┆ Target │\n",
       "│ ---                               ┆ ---    │\n",
       "│ str                               ┆ i32    │\n",
       "╞═══════════════════════════════════╪════════╡\n",
       "│ rmnccju rmnccju ras kernel info … ┆ 0      │\n",
       "│ rmnecju rmnecju ras kernel info … ┆ 0      │\n",
       "│ rmncju rmncju ras kernel info ge… ┆ 0      │\n",
       "│ rmncju rmncju ras kernel info ge… ┆ 0      │\n",
       "│ rmncju rmncju ras kernel info ge… ┆ 0      │\n",
       "└───────────────────────────────────┴────────┘"
      ]
     },
     "execution_count": 14,
     "metadata": {},
     "output_type": "execute_result"
    }
   ],
   "source": [
    "new_clean_df = pl.read_parquet(save_path)\n",
    "new_clean_df.head()"
   ]
  },
  {
   "cell_type": "code",
   "execution_count": 15,
   "metadata": {},
   "outputs": [
    {
     "data": {
      "text/html": [
       "<div><style>\n",
       ".dataframe > thead > tr > th,\n",
       ".dataframe > tbody > tr > td {\n",
       "  text-align: right;\n",
       "}\n",
       "</style>\n",
       "<small>shape: (1_000, 2)</small><table border=\"1\" class=\"dataframe\"><thead><tr><th>Log</th><th>Target</th></tr><tr><td>bool</td><td>bool</td></tr></thead><tbody><tr><td>true</td><td>true</td></tr><tr><td>true</td><td>true</td></tr><tr><td>true</td><td>true</td></tr><tr><td>true</td><td>true</td></tr><tr><td>true</td><td>true</td></tr><tr><td>true</td><td>true</td></tr><tr><td>true</td><td>true</td></tr><tr><td>true</td><td>true</td></tr><tr><td>true</td><td>true</td></tr><tr><td>true</td><td>true</td></tr><tr><td>true</td><td>true</td></tr><tr><td>true</td><td>true</td></tr><tr><td>&hellip;</td><td>&hellip;</td></tr><tr><td>true</td><td>true</td></tr><tr><td>true</td><td>true</td></tr><tr><td>true</td><td>true</td></tr><tr><td>true</td><td>true</td></tr><tr><td>true</td><td>true</td></tr><tr><td>true</td><td>true</td></tr><tr><td>true</td><td>true</td></tr><tr><td>true</td><td>true</td></tr><tr><td>true</td><td>true</td></tr><tr><td>true</td><td>true</td></tr><tr><td>true</td><td>true</td></tr><tr><td>true</td><td>true</td></tr></tbody></table></div>"
      ],
      "text/plain": [
       "shape: (1_000, 2)\n",
       "┌──────┬────────┐\n",
       "│ Log  ┆ Target │\n",
       "│ ---  ┆ ---    │\n",
       "│ bool ┆ bool   │\n",
       "╞══════╪════════╡\n",
       "│ true ┆ true   │\n",
       "│ true ┆ true   │\n",
       "│ true ┆ true   │\n",
       "│ true ┆ true   │\n",
       "│ …    ┆ …      │\n",
       "│ true ┆ true   │\n",
       "│ true ┆ true   │\n",
       "│ true ┆ true   │\n",
       "│ true ┆ true   │\n",
       "└──────┴────────┘"
      ]
     },
     "execution_count": 15,
     "metadata": {},
     "output_type": "execute_result"
    }
   ],
   "source": [
    "new_clean_df == clean_df"
   ]
  }
 ],
 "metadata": {
  "kernelspec": {
   "display_name": "logenv",
   "language": "python",
   "name": "python3"
  },
  "language_info": {
   "codemirror_mode": {
    "name": "ipython",
    "version": 3
   },
   "file_extension": ".py",
   "mimetype": "text/x-python",
   "name": "python",
   "nbconvert_exporter": "python",
   "pygments_lexer": "ipython3",
   "version": "3.10.8"
  },
  "orig_nbformat": 4
 },
 "nbformat": 4,
 "nbformat_minor": 2
}
