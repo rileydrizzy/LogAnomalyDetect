{
 "cells": [
  {
   "cell_type": "code",
   "execution_count": 4,
   "metadata": {},
   "outputs": [],
   "source": [
    "class LabelEncoder:\n",
    "    \"\"\"doc\"\"\"\n",
    "\n",
    "    def __init__(self):\n",
    "        self.label_mapping = {}\n",
    "        self.inverse_mapping = {}\n",
    "\n",
    "    def fit(self, labels):\n",
    "        \"\"\"doc\"\"\"\n",
    "        unique_labels = set(labels)\n",
    "        self.label_mapping = {\n",
    "            label: index for index, label in enumerate(unique_labels)\n",
    "        }\n",
    "        self.inverse_mapping = {\n",
    "            index: label for label, index in self.label_mapping.items()\n",
    "        }\n",
    "\n",
    "    def transform(self, labels):\n",
    "        \"\"\"doc\"\"\"\n",
    "        return [self.label_mapping[label] for label in labels]\n",
    "\n",
    "    def fit_transform(self, labels):\n",
    "        \"\"\"doc\"\"\"\n",
    "        self.fit(labels)\n",
    "        result = self.transform(labels)\n",
    "        return result\n",
    "\n",
    "    def inverse_transform(self, encoded_labels):\n",
    "        \"\"\"doc\"\"\"\n",
    "        return [self.inverse_mapping[label] for label in encoded_labels]"
   ]
  },
  {
   "cell_type": "code",
   "execution_count": 6,
   "metadata": {},
   "outputs": [
    {
     "name": "stdout",
     "output_type": "stream",
     "text": [
      "1000\n"
     ]
    },
    {
     "data": {
      "text/html": [
       "<div><style>\n",
       ".dataframe > thead > tr > th,\n",
       ".dataframe > tbody > tr > td {\n",
       "  text-align: right;\n",
       "}\n",
       "</style>\n",
       "<small>shape: (5, 2)</small><table border=\"1\" class=\"dataframe\"><thead><tr><th>Log</th><th>Target</th></tr><tr><td>str</td><td>str</td></tr></thead><tbody><tr><td>&quot; 1119803499 20…</td><td>&quot;normal&quot;</td></tr><tr><td>&quot; 1119803105 20…</td><td>&quot;normal&quot;</td></tr><tr><td>&quot; 1121496169 20…</td><td>&quot;normal&quot;</td></tr><tr><td>&quot; 1120968564 20…</td><td>&quot;normal&quot;</td></tr><tr><td>&quot; 1120953205 20…</td><td>&quot;normal&quot;</td></tr></tbody></table></div>"
      ],
      "text/plain": [
       "shape: (5, 2)\n",
       "┌───────────────────────────────────┬────────┐\n",
       "│ Log                               ┆ Target │\n",
       "│ ---                               ┆ ---    │\n",
       "│ str                               ┆ str    │\n",
       "╞═══════════════════════════════════╪════════╡\n",
       "│  1119803499 2005.06.26 R03-M0-NC… ┆ normal │\n",
       "│  1119803105 2005.06.26 R04-M0-NE… ┆ normal │\n",
       "│  1121496169 2005.07.15 R06-M0-N6… ┆ normal │\n",
       "│  1120968564 2005.07.09 R26-M0-N0… ┆ normal │\n",
       "│  1120953205 2005.07.09 R27-M0-N7… ┆ normal │\n",
       "└───────────────────────────────────┴────────┘"
      ]
     },
     "execution_count": 6,
     "metadata": {},
     "output_type": "execute_result"
    }
   ],
   "source": [
    "time1 = time.time()\n",
    "file = Path(Path().cwd(),'dev.gzip')\n",
    "main_df = pl.read_parquet(file)\n",
    "print(len(main_df))\n",
    "main_df.head()"
   ]
  },
  {
   "cell_type": "code",
   "execution_count": 7,
   "metadata": {},
   "outputs": [],
   "source": [
    "def encoder(data):\n",
    "    if data == 'normal':\n",
    "        data = 0\n",
    "    else:\n",
    "        data = 1\n",
    "    return data\n",
    "\n",
    "def clean_text_pro(text):\n",
    "    \"\"\"doc\n",
    "    \"\"\"\n",
    "    text = text.lower()\n",
    "    text = re.sub('<[^>]*>', '', text)\n",
    "    text = re.sub(r'[^a-zA-Z\\s]', '', text)\n",
    "    stop_words = set(stopwords.words('english'))\n",
    "    text = [word for word in text.split() \n",
    "            if word not in stop_words and word not in string.punctuation]\n",
    "    text = ' '.join(word for word in text)\n",
    "    return text"
   ]
  },
  {
   "cell_type": "code",
   "execution_count": 8,
   "metadata": {},
   "outputs": [
    {
     "name": "stdout",
     "output_type": "stream",
     "text": [
      "1000\n"
     ]
    },
    {
     "data": {
      "text/html": [
       "<div><style>\n",
       ".dataframe > thead > tr > th,\n",
       ".dataframe > tbody > tr > td {\n",
       "  text-align: right;\n",
       "}\n",
       "</style>\n",
       "<small>shape: (5, 2)</small><table border=\"1\" class=\"dataframe\"><thead><tr><th>Log</th><th>Target</th></tr><tr><td>str</td><td>i32</td></tr></thead><tbody><tr><td>&quot;rmnccju rmnccj…</td><td>0</td></tr><tr><td>&quot;rmnecju rmnecj…</td><td>0</td></tr><tr><td>&quot;rmncju rmncju …</td><td>0</td></tr><tr><td>&quot;rmncju rmncju …</td><td>0</td></tr><tr><td>&quot;rmncju rmncju …</td><td>0</td></tr></tbody></table></div>"
      ],
      "text/plain": [
       "shape: (5, 2)\n",
       "┌───────────────────────────────────┬────────┐\n",
       "│ Log                               ┆ Target │\n",
       "│ ---                               ┆ ---    │\n",
       "│ str                               ┆ i32    │\n",
       "╞═══════════════════════════════════╪════════╡\n",
       "│ rmnccju rmnccju ras kernel info … ┆ 0      │\n",
       "│ rmnecju rmnecju ras kernel info … ┆ 0      │\n",
       "│ rmncju rmncju ras kernel info ge… ┆ 0      │\n",
       "│ rmncju rmncju ras kernel info ge… ┆ 0      │\n",
       "│ rmncju rmncju ras kernel info ge… ┆ 0      │\n",
       "└───────────────────────────────────┴────────┘"
      ]
     },
     "execution_count": 8,
     "metadata": {},
     "output_type": "execute_result"
    }
   ],
   "source": [
    "df = main_df.with_columns(pl.col('Target').apply(encoder, return_dtype=pl.Int32))\n",
    "df = df.with_columns(pl.col('Log').apply(clean_text_pro))\n"
   ]
  },
  {
   "cell_type": "code",
   "execution_count": 9,
   "metadata": {},
   "outputs": [
    {
     "name": "stdout",
     "output_type": "stream",
     "text": [
      "0.27224159240722656\n"
     ]
    }
   ],
   "source": [
    "time2 = time.time()\n",
    "print(time2 - time1)"
   ]
  },
  {
   "cell_type": "code",
   "execution_count": 13,
   "metadata": {},
   "outputs": [
    {
     "name": "stdout",
     "output_type": "stream",
     "text": [
      "28\n"
     ]
    },
    {
     "data": {
      "text/html": [
       "<div><style>\n",
       ".dataframe > thead > tr > th,\n",
       ".dataframe > tbody > tr > td {\n",
       "  text-align: right;\n",
       "}\n",
       "</style>\n",
       "<small>shape: (5, 2)</small><table border=\"1\" class=\"dataframe\"><thead><tr><th>Log</th><th>Target</th></tr><tr><td>str</td><td>str</td></tr></thead><tbody><tr><td>&quot;1118542776 200…</td><td>&quot;abnormal&quot;</td></tr><tr><td>&quot;1118540472 200…</td><td>&quot;abnormal&quot;</td></tr><tr><td>&quot;1118543497 200…</td><td>&quot;abnormal&quot;</td></tr><tr><td>&quot;1118541190 200…</td><td>&quot;abnormal&quot;</td></tr><tr><td>&quot;1118542260 200…</td><td>&quot;abnormal&quot;</td></tr></tbody></table></div>"
      ],
      "text/plain": [
       "shape: (5, 2)\n",
       "┌───────────────────────────────────┬──────────┐\n",
       "│ Log                               ┆ Target   │\n",
       "│ ---                               ┆ ---      │\n",
       "│ str                               ┆ str      │\n",
       "╞═══════════════════════════════════╪══════════╡\n",
       "│ 1118542776 2005.06.11 R30-M0-N9-… ┆ abnormal │\n",
       "│ 1118540472 2005.06.11 R30-M0-N9-… ┆ abnormal │\n",
       "│ 1118543497 2005.06.11 R30-M0-N9-… ┆ abnormal │\n",
       "│ 1118541190 2005.06.11 R30-M0-N9-… ┆ abnormal │\n",
       "│ 1118542260 2005.06.11 R30-M0-N9-… ┆ abnormal │\n",
       "└───────────────────────────────────┴──────────┘"
      ]
     },
     "execution_count": 13,
     "metadata": {},
     "output_type": "execute_result"
    }
   ],
   "source": [
    "nr  = main_df.filter(pl.col('Target') != 'normal')\n",
    "print(len(nr))\n",
    "nr.head()"
   ]
  },
  {
   "cell_type": "code",
   "execution_count": 17,
   "metadata": {},
   "outputs": [
    {
     "name": "stdout",
     "output_type": "stream",
     "text": [
      "28\n"
     ]
    },
    {
     "data": {
      "text/html": [
       "<div><style>\n",
       ".dataframe > thead > tr > th,\n",
       ".dataframe > tbody > tr > td {\n",
       "  text-align: right;\n",
       "}\n",
       "</style>\n",
       "<small>shape: (28, 2)</small><table border=\"1\" class=\"dataframe\"><thead><tr><th>Log</th><th>Target</th></tr><tr><td>str</td><td>i32</td></tr></thead><tbody><tr><td>&quot;rmncju rmncju …</td><td>1</td></tr><tr><td>&quot;rmncju rmncju …</td><td>1</td></tr><tr><td>&quot;rmncju rmncju …</td><td>1</td></tr><tr><td>&quot;rmncju rmncju …</td><td>1</td></tr><tr><td>&quot;rmncju rmncju …</td><td>1</td></tr><tr><td>&quot;rmncju rmncju …</td><td>1</td></tr><tr><td>&quot;rmncju rmncju …</td><td>1</td></tr><tr><td>&quot;rmncju rmncju …</td><td>1</td></tr><tr><td>&quot;rmncju rmncju …</td><td>1</td></tr><tr><td>&quot;rmncju rmncju …</td><td>1</td></tr><tr><td>&quot;rmncju rmncju …</td><td>1</td></tr><tr><td>&quot;rmncju rmncju …</td><td>1</td></tr><tr><td>&hellip;</td><td>&hellip;</td></tr><tr><td>&quot;rmncju rmncju …</td><td>1</td></tr><tr><td>&quot;rmncju rmncju …</td><td>1</td></tr><tr><td>&quot;rmncju rmncju …</td><td>1</td></tr><tr><td>&quot;rmncju rmncju …</td><td>1</td></tr><tr><td>&quot;rmncju rmncju …</td><td>1</td></tr><tr><td>&quot;rmncju rmncju …</td><td>1</td></tr><tr><td>&quot;rmncju rmncju …</td><td>1</td></tr><tr><td>&quot;rmncju rmncju …</td><td>1</td></tr><tr><td>&quot;rmncju rmncju …</td><td>1</td></tr><tr><td>&quot;rmncju rmncju …</td><td>1</td></tr><tr><td>&quot;rmncju rmncju …</td><td>1</td></tr><tr><td>&quot;rmncju rmncju …</td><td>1</td></tr></tbody></table></div>"
      ],
      "text/plain": [
       "shape: (28, 2)\n",
       "┌───────────────────────────────────┬────────┐\n",
       "│ Log                               ┆ Target │\n",
       "│ ---                               ┆ ---    │\n",
       "│ str                               ┆ i32    │\n",
       "╞═══════════════════════════════════╪════════╡\n",
       "│ rmncju rmncju ras kernel fatal d… ┆ 1      │\n",
       "│ rmncju rmncju ras kernel fatal d… ┆ 1      │\n",
       "│ rmncju rmncju ras kernel fatal d… ┆ 1      │\n",
       "│ rmncju rmncju ras kernel fatal d… ┆ 1      │\n",
       "│ …                                 ┆ …      │\n",
       "│ rmncju rmncju ras kernel fatal d… ┆ 1      │\n",
       "│ rmncju rmncju ras kernel fatal d… ┆ 1      │\n",
       "│ rmncju rmncju ras kernel fatal d… ┆ 1      │\n",
       "│ rmncju rmncju ras kernel fatal d… ┆ 1      │\n",
       "└───────────────────────────────────┴────────┘"
      ]
     },
     "execution_count": 17,
     "metadata": {},
     "output_type": "execute_result"
    }
   ],
   "source": [
    "ab = df.filter(pl.col('Target') == 1)\n",
    "print(len(ab))\n",
    "ab"
   ]
  },
  {
   "cell_type": "code",
   "execution_count": null,
   "metadata": {},
   "outputs": [],
   "source": []
  }
 ],
 "metadata": {
  "kernelspec": {
   "display_name": "log-anaomly-Z6xKN3XP-py3.10",
   "language": "python",
   "name": "python3"
  },
  "language_info": {
   "codemirror_mode": {
    "name": "ipython",
    "version": 3
   },
   "file_extension": ".py",
   "mimetype": "text/x-python",
   "name": "python",
   "nbconvert_exporter": "python",
   "pygments_lexer": "ipython3",
   "version": "3.10.8"
  },
  "orig_nbformat": 4
 },
 "nbformat": 4,
 "nbformat_minor": 2
}
