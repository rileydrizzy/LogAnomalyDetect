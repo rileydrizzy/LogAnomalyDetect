{
 "cells": [
  {
   "cell_type": "code",
   "execution_count": 2,
   "metadata": {},
   "outputs": [
    {
     "name": "stderr",
     "output_type": "stream",
     "text": [
      "[nltk_data] Downloading package stopwords to\n",
      "[nltk_data]     /home/codespace/nltk_data...\n",
      "[nltk_data]   Package stopwords is already up-to-date!\n"
     ]
    },
    {
     "data": {
      "text/plain": [
       "True"
      ]
     },
     "execution_count": 2,
     "metadata": {},
     "output_type": "execute_result"
    }
   ],
   "source": [
    "import os\n",
    "import re\n",
    "import string\n",
    "\n",
    "import nltk\n",
    "import polars as pl\n",
    "import tensorflow as tf\n",
    "from nltk.corpus import stopwords\n",
    "\n",
    "nltk.download('stopwords')"
   ]
  },
  {
   "cell_type": "code",
   "execution_count": 3,
   "metadata": {},
   "outputs": [
    {
     "data": {
      "text/html": [
       "<div><style>\n",
       ".dataframe > thead > tr > th,\n",
       ".dataframe > tbody > tr > td {\n",
       "  text-align: right;\n",
       "}\n",
       "</style>\n",
       "<small>shape: (5, 2)</small><table border=\"1\" class=\"dataframe\"><thead><tr><th>Log</th><th>Target</th></tr><tr><td>str</td><td>str</td></tr></thead><tbody><tr><td>&quot; 1119803499 20…</td><td>&quot;normal&quot;</td></tr><tr><td>&quot; 1119803105 20…</td><td>&quot;normal&quot;</td></tr><tr><td>&quot; 1121496169 20…</td><td>&quot;normal&quot;</td></tr><tr><td>&quot; 1120968564 20…</td><td>&quot;normal&quot;</td></tr><tr><td>&quot; 1120953205 20…</td><td>&quot;normal&quot;</td></tr></tbody></table></div>"
      ],
      "text/plain": [
       "shape: (5, 2)\n",
       "┌───────────────────────────────────┬────────┐\n",
       "│ Log                               ┆ Target │\n",
       "│ ---                               ┆ ---    │\n",
       "│ str                               ┆ str    │\n",
       "╞═══════════════════════════════════╪════════╡\n",
       "│  1119803499 2005.06.26 R03-M0-NC… ┆ normal │\n",
       "│  1119803105 2005.06.26 R04-M0-NE… ┆ normal │\n",
       "│  1121496169 2005.07.15 R06-M0-N6… ┆ normal │\n",
       "│  1120968564 2005.07.09 R26-M0-N0… ┆ normal │\n",
       "│  1120953205 2005.07.09 R27-M0-N7… ┆ normal │\n",
       "└───────────────────────────────────┴────────┘"
      ]
     },
     "execution_count": 3,
     "metadata": {},
     "output_type": "execute_result"
    }
   ],
   "source": [
    "file = 'dev.gzip'\n",
    "dev_df = pl.read_parquet(file)\n",
    "dev_df.head()"
   ]
  },
  {
   "cell_type": "code",
   "execution_count": 1,
   "metadata": {},
   "outputs": [],
   "source": [
    "from utils.utils import get_dataset, text_vec"
   ]
  },
  {
   "cell_type": "code",
   "execution_count": 4,
   "metadata": {},
   "outputs": [],
   "source": [
    "dev_dataset = get_dataset(file_path= file, batch_size=1,shuffle= False)"
   ]
  },
  {
   "cell_type": "code",
   "execution_count": 6,
   "metadata": {},
   "outputs": [
    {
     "name": "stdout",
     "output_type": "stream",
     "text": [
      "(<tf.Tensor: shape=(1,), dtype=string, numpy=\n",
      "array([b'rmnccju rmnccju ras kernel info data store interrupt caused dcbf'],\n",
      "      dtype=object)>, <tf.Tensor: shape=(1,), dtype=int32, numpy=array([0], dtype=int32)>)\n",
      "(<tf.Tensor: shape=(1,), dtype=string, numpy=\n",
      "array([b'rmnecju rmnecju ras kernel info program interrupt illegal instruction'],\n",
      "      dtype=object)>, <tf.Tensor: shape=(1,), dtype=int32, numpy=array([0], dtype=int32)>)\n"
     ]
    }
   ],
   "source": [
    "for word in dev_dataset.take(2):\n",
    "    print(word)"
   ]
  },
  {
   "cell_type": "code",
   "execution_count": 20,
   "metadata": {},
   "outputs": [],
   "source": [
    "token_vec, voc = text_vec(dev_dataset)"
   ]
  },
  {
   "cell_type": "code",
   "execution_count": 21,
   "metadata": {},
   "outputs": [
    {
     "data": {
      "text/plain": [
       "<tf.Tensor: shape=(1, 100), dtype=int64, numpy=\n",
       "array([[ 26,  26,   3,   4,   5,  35,  75,  25,  95, 242,   0,   0,   0,\n",
       "          0,   0,   0,   0,   0,   0,   0,   0,   0,   0,   0,   0,   0,\n",
       "          0,   0,   0,   0,   0,   0,   0,   0,   0,   0,   0,   0,   0,\n",
       "          0,   0,   0,   0,   0,   0,   0,   0,   0,   0,   0,   0,   0,\n",
       "          0,   0,   0,   0,   0,   0,   0,   0,   0,   0,   0,   0,   0,\n",
       "          0,   0,   0,   0,   0,   0,   0,   0,   0,   0,   0,   0,   0,\n",
       "          0,   0,   0,   0,   0,   0,   0,   0,   0,   0,   0,   0,   0,\n",
       "          0,   0,   0,   0,   0,   0,   0,   0,   0]])>"
      ]
     },
     "execution_count": 21,
     "metadata": {},
     "output_type": "execute_result"
    }
   ],
   "source": [
    "out = token_vec(['rmnccju rmnccju ras kernel info data store interrupt caused dcbf'])\n",
    "out"
   ]
  },
  {
   "cell_type": "code",
   "execution_count": null,
   "metadata": {},
   "outputs": [],
   "source": [
    "log_ds = dev_dataset.map(lambda text,label: text)\n",
    "sequence_length = 10\n",
    "tokenizer_layer = tf.keras.layers.TextVectorization(split= 'whitespace', output_mode= 'int',\n",
    "                                              output_sequence_length= sequence_length)\n",
    "tokenizer_layer.adapt(log_ds)\n",
    "vocab_size = tokenizer_layer.vocabulary_size()"
   ]
  },
  {
   "cell_type": "code",
   "execution_count": 4,
   "metadata": {},
   "outputs": [],
   "source": [
    "vocab_size = 1000"
   ]
  },
  {
   "cell_type": "code",
   "execution_count": 14,
   "metadata": {},
   "outputs": [],
   "source": [
    "LR = 0.001\n",
    "OPTIM = tf.keras.optimizers.Adam(learning_rate=LR)\n",
    "LOSS = \"binary_crossentropy\"\n",
    "filter = 10\n",
    "kernel = 5\n",
    "stride = 1\n",
    "pad= \"same\"\n",
    "embed_dim = 100\n",
    "\n",
    "def build_model():\n",
    "    \"\"\" 1DCNN doc\n",
    "\n",
    "    Parameters\n",
    "    ----------\n",
    "    file_path : str\n",
    "\n",
    "    Returns\n",
    "    -------\n",
    "    model : object\n",
    "        model\n",
    "    \"\"\"\n",
    "    input_layer = tf.keras.layers.Input(shape= (100))\n",
    "    embeding_layer = tf.keras.layers.Embedding(input_dim= vocab_size + 1,output_dim= embed_dim,\n",
    "                                               mask_zero= True)\n",
    "    DefaultConv1D = partial(tf.keras.layers.Conv1D, kernel_size= 3, strides= 1 , padding= pad, \n",
    "                           activation= 'relu')\n",
    "    DefualtMaxpool1D = partial(tf.keras.layers.MaxPool1D, pool_size= 2)\n",
    "    model = tf.keras.Sequential([input_layer, embeding_layer,\n",
    "                         DefaultConv1D(30),\n",
    "                         DefualtMaxpool1D(),\n",
    "                         tf.keras.layers.GlobalMaxPool1D(),\n",
    "                         tf.keras.layers.Dropout(0.5),\n",
    "                         tf.keras.layers.Dense(units= 20, activation= 'relu'),\n",
    "                         tf.keras.layers.Dropout(0.5),\n",
    "                         tf.keras.layers.Dense(units= 1, activation= 'sigmoid')\n",
    "                         ])\n",
    "    model.compile(loss= LOSS, optimizer= OPTIM, metrics= ['f1_score'])\n",
    "    return model"
   ]
  },
  {
   "cell_type": "code",
   "execution_count": 15,
   "metadata": {},
   "outputs": [
    {
     "name": "stdout",
     "output_type": "stream",
     "text": [
      "Model: \"sequential_3\"\n",
      "_________________________________________________________________\n",
      " Layer (type)                Output Shape              Param #   \n",
      "=================================================================\n",
      " embedding_3 (Embedding)     (None, 100, 100)          100100    \n",
      "                                                                 \n",
      " conv1d_3 (Conv1D)           (None, 100, 30)           9030      \n",
      "                                                                 \n",
      " max_pooling1d_3 (MaxPoolin  (None, 50, 30)            0         \n",
      " g1D)                                                            \n",
      "                                                                 \n",
      " global_max_pooling1d_3 (Gl  (None, 30)                0         \n",
      " obalMaxPooling1D)                                               \n",
      "                                                                 \n",
      " dropout_6 (Dropout)         (None, 30)                0         \n",
      "                                                                 \n",
      " dense_6 (Dense)             (None, 20)                620       \n",
      "                                                                 \n",
      " dropout_7 (Dropout)         (None, 20)                0         \n",
      "                                                                 \n",
      " dense_7 (Dense)             (None, 1)                 21        \n",
      "                                                                 \n",
      "=================================================================\n",
      "Total params: 109771 (428.79 KB)\n",
      "Trainable params: 109771 (428.79 KB)\n",
      "Non-trainable params: 0 (0.00 Byte)\n",
      "_________________________________________________________________\n"
     ]
    }
   ],
   "source": [
    "model = build_model()\n",
    "model.summary()"
   ]
  },
  {
   "cell_type": "code",
   "execution_count": 16,
   "metadata": {},
   "outputs": [
    {
     "data": {
      "image/png": "[encoded data removed]",
      "text/plain": [
       "<IPython.core.display.Image object>"
      ]
     },
     "execution_count": 16,
     "metadata": {},
     "output_type": "execute_result"
    }
   ],
   "source": [
    "tf.keras.utils.plot_model(model,\n",
    "                          to_file= 'doc/model.png')"
   ]
  },
  {
   "cell_type": "code",
   "execution_count": 15,
   "metadata": {},
   "outputs": [],
   "source": [
    "import os\n",
    "from functools import partial\n",
    "\n",
    "import tensorflow as tf\n",
    "\n",
    "os.chdir(\"../\")"
   ]
  },
  {
   "cell_type": "code",
   "execution_count": 22,
   "metadata": {},
   "outputs": [
    {
     "ename": "ValueError",
     "evalue": "Exception encountered when calling layer \"text_vectorization_2\" (type TextVectorization).\n\nWhen using `TextVectorization` to tokenize strings, the input rank must be 1 or the last shape dimension must be 1. Received: inputs.shape=(None, 100) with rank=2\n\nCall arguments received by layer \"text_vectorization_2\" (type TextVectorization):\n  • inputs=tf.Tensor(shape=(None, 100), dtype=float32)",
     "output_type": "error",
     "traceback": [
      "\u001b[0;31m---------------------------------------------------------------------------\u001b[0m",
      "\u001b[0;31mValueError\u001b[0m                                Traceback (most recent call last)",
      "Cell \u001b[0;32mIn[22], line 2\u001b[0m\n\u001b[1;32m      1\u001b[0m \u001b[39mfrom\u001b[39;00m \u001b[39mmodels\u001b[39;00m \u001b[39mimport\u001b[39;00m GRU\n\u001b[0;32m----> 2\u001b[0m new_model \u001b[39m=\u001b[39m GRU\u001b[39m.\u001b[39;49mbuild_model(\u001b[39m100\u001b[39;49m,\u001b[39m100\u001b[39;49m,\u001b[39m'\u001b[39;49m\u001b[39msame\u001b[39;49m\u001b[39m'\u001b[39;49m,\u001b[39m100\u001b[39;49m,token_vec)\n\u001b[1;32m      3\u001b[0m new_model\u001b[39m.\u001b[39msummary()\n",
      "File \u001b[0;32m/workspaces/log_anomaly/src/models/GRU.py:27\u001b[0m, in \u001b[0;36mbuild_model\u001b[0;34m(embed_dim, vocab_size, pad, sequence_length, text_vec)\u001b[0m\n\u001b[1;32m     15\u001b[0m \u001b[39mdef\u001b[39;00m \u001b[39mbuild_model\u001b[39m(embed_dim, vocab_size, pad, sequence_length, text_vec):\n\u001b[1;32m     16\u001b[0m \u001b[39m    \u001b[39m\u001b[39m\"\"\" 1DCNN doc\u001b[39;00m\n\u001b[1;32m     17\u001b[0m \n\u001b[1;32m     18\u001b[0m \u001b[39m    Parameters\u001b[39;00m\n\u001b[0;32m   (...)\u001b[0m\n\u001b[1;32m     25\u001b[0m \u001b[39m        model\u001b[39;00m\n\u001b[1;32m     26\u001b[0m \u001b[39m    \"\"\"\u001b[39;00m\n\u001b[0;32m---> 27\u001b[0m     input_layer\u001b[39m=\u001b[39m tf\u001b[39m.\u001b[39;49mkeras\u001b[39m.\u001b[39;49mSequential([tf\u001b[39m.\u001b[39;49mkeras\u001b[39m.\u001b[39;49mlayers\u001b[39m.\u001b[39;49mInput(shape\u001b[39m=\u001b[39;49m(sequence_length,)),\n\u001b[1;32m     28\u001b[0m                                       text_vec])\n\u001b[1;32m     29\u001b[0m     embeding_layer \u001b[39m=\u001b[39m tf\u001b[39m.\u001b[39mkeras\u001b[39m.\u001b[39mlayers\u001b[39m.\u001b[39mEmbedding(input_dim\u001b[39m=\u001b[39m (vocab_size \u001b[39m+\u001b[39m \u001b[39m1\u001b[39m),output_dim\u001b[39m=\u001b[39m embed_dim,\n\u001b[1;32m     30\u001b[0m                                                mask_zero\u001b[39m=\u001b[39m \u001b[39mTrue\u001b[39;00m)\n\u001b[1;32m     31\u001b[0m     DefaultConv1D \u001b[39m=\u001b[39m partial(tf\u001b[39m.\u001b[39mkeras\u001b[39m.\u001b[39mlayers\u001b[39m.\u001b[39mConv1D, kernel_size\u001b[39m=\u001b[39m \u001b[39m3\u001b[39m, strides\u001b[39m=\u001b[39m \u001b[39m1\u001b[39m , padding\u001b[39m=\u001b[39m pad,\n\u001b[1;32m     32\u001b[0m                            activation\u001b[39m=\u001b[39m \u001b[39m'\u001b[39m\u001b[39mrelu\u001b[39m\u001b[39m'\u001b[39m)\n",
      "File \u001b[0;32m/workspaces/log_anomaly/logenv/lib/python3.10/site-packages/tensorflow/python/trackable/base.py:204\u001b[0m, in \u001b[0;36mno_automatic_dependency_tracking.<locals>._method_wrapper\u001b[0;34m(self, *args, **kwargs)\u001b[0m\n\u001b[1;32m    202\u001b[0m \u001b[39mself\u001b[39m\u001b[39m.\u001b[39m_self_setattr_tracking \u001b[39m=\u001b[39m \u001b[39mFalse\u001b[39;00m  \u001b[39m# pylint: disable=protected-access\u001b[39;00m\n\u001b[1;32m    203\u001b[0m \u001b[39mtry\u001b[39;00m:\n\u001b[0;32m--> 204\u001b[0m   result \u001b[39m=\u001b[39m method(\u001b[39mself\u001b[39;49m, \u001b[39m*\u001b[39;49margs, \u001b[39m*\u001b[39;49m\u001b[39m*\u001b[39;49mkwargs)\n\u001b[1;32m    205\u001b[0m \u001b[39mfinally\u001b[39;00m:\n\u001b[1;32m    206\u001b[0m   \u001b[39mself\u001b[39m\u001b[39m.\u001b[39m_self_setattr_tracking \u001b[39m=\u001b[39m previous_value  \u001b[39m# pylint: disable=protected-access\u001b[39;00m\n",
      "File \u001b[0;32m/workspaces/log_anomaly/logenv/lib/python3.10/site-packages/keras/src/utils/traceback_utils.py:70\u001b[0m, in \u001b[0;36mfilter_traceback.<locals>.error_handler\u001b[0;34m(*args, **kwargs)\u001b[0m\n\u001b[1;32m     67\u001b[0m     filtered_tb \u001b[39m=\u001b[39m _process_traceback_frames(e\u001b[39m.\u001b[39m__traceback__)\n\u001b[1;32m     68\u001b[0m     \u001b[39m# To get the full stack trace, call:\u001b[39;00m\n\u001b[1;32m     69\u001b[0m     \u001b[39m# `tf.debugging.disable_traceback_filtering()`\u001b[39;00m\n\u001b[0;32m---> 70\u001b[0m     \u001b[39mraise\u001b[39;00m e\u001b[39m.\u001b[39mwith_traceback(filtered_tb) \u001b[39mfrom\u001b[39;00m \u001b[39mNone\u001b[39;00m\n\u001b[1;32m     71\u001b[0m \u001b[39mfinally\u001b[39;00m:\n\u001b[1;32m     72\u001b[0m     \u001b[39mdel\u001b[39;00m filtered_tb\n",
      "File \u001b[0;32m/workspaces/log_anomaly/logenv/lib/python3.10/site-packages/keras/src/layers/preprocessing/text_vectorization.py:588\u001b[0m, in \u001b[0;36mTextVectorization._preprocess\u001b[0;34m(self, inputs)\u001b[0m\n\u001b[1;32m    586\u001b[0m \u001b[39mif\u001b[39;00m inputs\u001b[39m.\u001b[39mshape\u001b[39m.\u001b[39mrank \u001b[39m>\u001b[39m \u001b[39m1\u001b[39m:\n\u001b[1;32m    587\u001b[0m     \u001b[39mif\u001b[39;00m inputs\u001b[39m.\u001b[39mshape[\u001b[39m-\u001b[39m\u001b[39m1\u001b[39m] \u001b[39m!=\u001b[39m \u001b[39m1\u001b[39m:\n\u001b[0;32m--> 588\u001b[0m         \u001b[39mraise\u001b[39;00m \u001b[39mValueError\u001b[39;00m(\n\u001b[1;32m    589\u001b[0m             \u001b[39m\"\u001b[39m\u001b[39mWhen using `TextVectorization` to tokenize strings, \u001b[39m\u001b[39m\"\u001b[39m\n\u001b[1;32m    590\u001b[0m             \u001b[39m\"\u001b[39m\u001b[39mthe input rank must be 1 or the last shape dimension \u001b[39m\u001b[39m\"\u001b[39m\n\u001b[1;32m    591\u001b[0m             \u001b[39mf\u001b[39m\u001b[39m\"\u001b[39m\u001b[39mmust be 1. Received: inputs.shape=\u001b[39m\u001b[39m{\u001b[39;00minputs\u001b[39m.\u001b[39mshape\u001b[39m}\u001b[39;00m\u001b[39m \u001b[39m\u001b[39m\"\u001b[39m\n\u001b[1;32m    592\u001b[0m             \u001b[39mf\u001b[39m\u001b[39m\"\u001b[39m\u001b[39mwith rank=\u001b[39m\u001b[39m{\u001b[39;00minputs\u001b[39m.\u001b[39mshape\u001b[39m.\u001b[39mrank\u001b[39m}\u001b[39;00m\u001b[39m\"\u001b[39m\n\u001b[1;32m    593\u001b[0m         )\n\u001b[1;32m    594\u001b[0m     \u001b[39melse\u001b[39;00m:\n\u001b[1;32m    595\u001b[0m         inputs \u001b[39m=\u001b[39m tf\u001b[39m.\u001b[39msqueeze(inputs, axis\u001b[39m=\u001b[39m\u001b[39m-\u001b[39m\u001b[39m1\u001b[39m)\n",
      "\u001b[0;31mValueError\u001b[0m: Exception encountered when calling layer \"text_vectorization_2\" (type TextVectorization).\n\nWhen using `TextVectorization` to tokenize strings, the input rank must be 1 or the last shape dimension must be 1. Received: inputs.shape=(None, 100) with rank=2\n\nCall arguments received by layer \"text_vectorization_2\" (type TextVectorization):\n  • inputs=tf.Tensor(shape=(None, 100), dtype=float32)"
     ]
    }
   ],
   "source": [
    "from models import GRU\n",
    "\n",
    "new_model = GRU.build_model(100,100,'same',100,token_vec)\n",
    "new_model.summary()"
   ]
  }
 ],
 "metadata": {
  "kernelspec": {
   "display_name": "log-anaomly-Z6xKN3XP-py3.10",
   "language": "python",
   "name": "python3"
  },
  "language_info": {
   "codemirror_mode": {
    "name": "ipython",
    "version": 3
   },
   "file_extension": ".py",
   "mimetype": "text/x-python",
   "name": "python",
   "nbconvert_exporter": "python",
   "pygments_lexer": "ipython3",
   "version": "3.10.8"
  },
  "orig_nbformat": 4
 },
 "nbformat": 4,
 "nbformat_minor": 2
}
