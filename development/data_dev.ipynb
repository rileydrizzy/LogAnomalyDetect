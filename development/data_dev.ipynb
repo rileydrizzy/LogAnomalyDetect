{
 "cells": [
  {
   "cell_type": "code",
   "execution_count": null,
   "metadata": {},
   "outputs": [],
   "source": [
    "import os\n",
    "\n",
    "os.chdir('../')\n",
    "%pwd"
   ]
  },
  {
   "cell_type": "code",
   "execution_count": 1,
   "metadata": {},
   "outputs": [
    {
     "name": "stderr",
     "output_type": "stream",
     "text": [
      "2023-08-07 05:37:48.536595: I tensorflow/tsl/cuda/cudart_stub.cc:28] Could not find cuda drivers on your machine, GPU will not be used.\n",
      "2023-08-07 05:37:51.679185: I tensorflow/tsl/cuda/cudart_stub.cc:28] Could not find cuda drivers on your machine, GPU will not be used.\n",
      "2023-08-07 05:37:51.679910: I tensorflow/core/platform/cpu_feature_guard.cc:182] This TensorFlow binary is optimized to use available CPU instructions in performance-critical operations.\n",
      "To enable the following instructions: AVX2 FMA, in other operations, rebuild TensorFlow with the appropriate compiler flags.\n",
      "2023-08-07 05:37:56.094957: W tensorflow/compiler/tf2tensorrt/utils/py_utils.cc:38] TF-TRT Warning: Could not find TensorRT\n"
     ]
    }
   ],
   "source": [
    "\"\"\"doc\n",
    "\"\"\"\n",
    "from functools import partial\n",
    "\n",
    "import tensorflow as tf\n",
    "\n",
    "FILTER = 10\n",
    "KERNEL = 5\n",
    "STRIDE = 1\n",
    "\n",
    "LR = 0.001\n",
    "OPTIM = tf.keras.optimizers.Adam(learning_rate=LR)\n",
    "LOSS = \"binary_crossentropy\"\n",
    "\n",
    "\n",
    "def build_model(embed_dim, vocab_size, pad, sequence_length, tokenizer_layer):\n",
    "    \"\"\"1DCNN doc\n",
    "\n",
    "    Parameters\n",
    "    ----------\n",
    "    file_path : str\n",
    "\n",
    "    Returns\n",
    "    -------\n",
    "    model : object\n",
    "        model\n",
    "    \"\"\"\n",
    "    input_layer = tf.keras.Sequential(\n",
    "        [tf.keras.layers.Input(shape=(None, sequence_length)), tokenizer_layer]\n",
    "    )\n",
    "    embeding_layer = tf.keras.layers.Embedding(\n",
    "        input_dim=(vocab_size + 1), output_dim=embed_dim, mask_zero=True\n",
    "    )\n",
    "    DefaultConv1D = partial(\n",
    "        tf.keras.layers.Conv1D, kernel_size=3, strides=1, padding=pad, activation=\"relu\"\n",
    "    )\n",
    "    DefualtMaxpool1D = partial(tf.keras.layers.MaxPool1D, pool_size=2)\n",
    "    model = tf.keras.Sequential(\n",
    "        [\n",
    "            embeding_layer,\n",
    "            DefaultConv1D(30),\n",
    "            DefualtMaxpool1D(),\n",
    "            tf.keras.layers.GlobalMaxPool1D(),\n",
    "            tf.keras.layers.Dropout(0.5),\n",
    "            tf.keras.layers.Dense(units=20, activation=\"relu\"),\n",
    "            tf.keras.layers.Dropout(0.5),\n",
    "            tf.keras.layers.Dense(units=1, activation=\"sigmoid\"),\n",
    "        ]\n",
    "    )\n",
    "    main_model = tf.keras.Sequential([input_layer, model])\n",
    "    main_model.compile(loss=LOSS, optimizer=OPTIM, metrics=[\"f1_score\"])\n",
    "    return main_model"
   ]
  }
 ],
 "metadata": {
  "kernelspec": {
   "display_name": "logenv",
   "language": "python",
   "name": "python3"
  },
  "language_info": {
   "codemirror_mode": {
    "name": "ipython",
    "version": 3
   },
   "file_extension": ".py",
   "mimetype": "text/x-python",
   "name": "python",
   "nbconvert_exporter": "python",
   "pygments_lexer": "ipython3",
   "version": "3.10.8"
  },
  "orig_nbformat": 4
 },
 "nbformat": 4,
 "nbformat_minor": 2
}
