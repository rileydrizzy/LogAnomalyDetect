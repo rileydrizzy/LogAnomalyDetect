{
 "cells": [
  {
   "cell_type": "code",
   "execution_count": 1,
   "metadata": {},
   "outputs": [
    {
     "name": "stderr",
     "output_type": "stream",
     "text": [
      "2023-08-06 23:29:43.549128: I tensorflow/tsl/cuda/cudart_stub.cc:28] Could not find cuda drivers on your machine, GPU will not be used.\n",
      "2023-08-06 23:29:43.581176: I tensorflow/tsl/cuda/cudart_stub.cc:28] Could not find cuda drivers on your machine, GPU will not be used.\n",
      "2023-08-06 23:29:43.581812: I tensorflow/core/platform/cpu_feature_guard.cc:182] This TensorFlow binary is optimized to use available CPU instructions in performance-critical operations.\n",
      "To enable the following instructions: AVX2 FMA, in other operations, rebuild TensorFlow with the appropriate compiler flags.\n",
      "2023-08-06 23:29:44.313691: W tensorflow/compiler/tf2tensorrt/utils/py_utils.cc:38] TF-TRT Warning: Could not find TensorRT\n",
      "[nltk_data] Downloading package stopwords to /home/gitpod/nltk_data...\n",
      "[nltk_data]   Package stopwords is already up-to-date!\n"
     ]
    },
    {
     "data": {
      "text/plain": [
       "True"
      ]
     },
     "execution_count": 1,
     "metadata": {},
     "output_type": "execute_result"
    }
   ],
   "source": [
    "import os\n",
    "import re\n",
    "import string\n",
    "from functools import partial\n",
    "\n",
    "import nltk\n",
    "import polars as pl\n",
    "import tensorflow as tf\n",
    "from nltk.corpus import stopwords\n",
    "\n",
    "nltk.download('stopwords')"
   ]
  },
  {
   "cell_type": "code",
   "execution_count": 2,
   "metadata": {},
   "outputs": [
    {
     "data": {
      "text/plain": [
       "[PhysicalDevice(name='/physical_device:CPU:0', device_type='CPU')]"
      ]
     },
     "execution_count": 2,
     "metadata": {},
     "output_type": "execute_result"
    }
   ],
   "source": [
    "device = tf.config.list_physical_devices()\n",
    "device"
   ]
  },
  {
   "cell_type": "code",
   "execution_count": 3,
   "metadata": {},
   "outputs": [
    {
     "data": {
      "text/html": [
       "<div><style>\n",
       ".dataframe > thead > tr > th,\n",
       ".dataframe > tbody > tr > td {\n",
       "  text-align: right;\n",
       "}\n",
       "</style>\n",
       "<small>shape: (5, 2)</small><table border=\"1\" class=\"dataframe\"><thead><tr><th>Log</th><th>Target</th></tr><tr><td>str</td><td>str</td></tr></thead><tbody><tr><td>&quot; 1119803499 20…</td><td>&quot;normal&quot;</td></tr><tr><td>&quot; 1119803105 20…</td><td>&quot;normal&quot;</td></tr><tr><td>&quot; 1121496169 20…</td><td>&quot;normal&quot;</td></tr><tr><td>&quot; 1120968564 20…</td><td>&quot;normal&quot;</td></tr><tr><td>&quot; 1120953205 20…</td><td>&quot;normal&quot;</td></tr></tbody></table></div>"
      ],
      "text/plain": [
       "shape: (5, 2)\n",
       "┌───────────────────────────────────┬────────┐\n",
       "│ Log                               ┆ Target │\n",
       "│ ---                               ┆ ---    │\n",
       "│ str                               ┆ str    │\n",
       "╞═══════════════════════════════════╪════════╡\n",
       "│  1119803499 2005.06.26 R03-M0-NC… ┆ normal │\n",
       "│  1119803105 2005.06.26 R04-M0-NE… ┆ normal │\n",
       "│  1121496169 2005.07.15 R06-M0-N6… ┆ normal │\n",
       "│  1120968564 2005.07.09 R26-M0-N0… ┆ normal │\n",
       "│  1120953205 2005.07.09 R27-M0-N7… ┆ normal │\n",
       "└───────────────────────────────────┴────────┘"
      ]
     },
     "execution_count": 3,
     "metadata": {},
     "output_type": "execute_result"
    }
   ],
   "source": [
    "file = 'dev.gzip'\n",
    "dev_df = pl.read_parquet(file)\n",
    "dev_df.head()"
   ]
  },
  {
   "cell_type": "code",
   "execution_count": 4,
   "metadata": {},
   "outputs": [
    {
     "name": "stderr",
     "output_type": "stream",
     "text": [
      "[nltk_data] Downloading package stopwords to /home/gitpod/nltk_data...\n",
      "[nltk_data]   Package stopwords is already up-to-date!\n"
     ]
    }
   ],
   "source": [
    "from utils.utils import get_dataset, get_tokenizer"
   ]
  },
  {
   "cell_type": "code",
   "execution_count": 5,
   "metadata": {},
   "outputs": [],
   "source": [
    "dev_dataset = get_dataset(file_path= file, batch_size=1,shuffle= False)"
   ]
  },
  {
   "cell_type": "code",
   "execution_count": 6,
   "metadata": {},
   "outputs": [
    {
     "name": "stdout",
     "output_type": "stream",
     "text": [
      "(<tf.Tensor: shape=(1,), dtype=string, numpy=\n",
      "array([b'rmnccju rmnccju ras kernel info data store interrupt caused dcbf'],\n",
      "      dtype=object)>, <tf.Tensor: shape=(1,), dtype=int32, numpy=array([0], dtype=int32)>)\n",
      "(<tf.Tensor: shape=(1,), dtype=string, numpy=\n",
      "array([b'rmnecju rmnecju ras kernel info program interrupt illegal instruction'],\n",
      "      dtype=object)>, <tf.Tensor: shape=(1,), dtype=int32, numpy=array([0], dtype=int32)>)\n"
     ]
    }
   ],
   "source": [
    "for word in dev_dataset.take(2):\n",
    "    print(word)"
   ]
  },
  {
   "cell_type": "code",
   "execution_count": 7,
   "metadata": {},
   "outputs": [],
   "source": [
    "token_vec, voc = get_tokenizer(dev_dataset, sequence_length= 15)"
   ]
  },
  {
   "cell_type": "code",
   "execution_count": 8,
   "metadata": {},
   "outputs": [
    {
     "data": {
      "text/plain": [
       "<tf.Tensor: shape=(1, 15), dtype=int64, numpy=\n",
       "array([[ 26,  26,   3,   4,   5,  35,  75,  25,  95, 242,   0,   0,   0,\n",
       "          0,   0]])>"
      ]
     },
     "execution_count": 8,
     "metadata": {},
     "output_type": "execute_result"
    }
   ],
   "source": [
    "out = token_vec(['rmnccju rmnccju ras kernel info data store interrupt caused dcbf'])\n",
    "out"
   ]
  },
  {
   "cell_type": "code",
   "execution_count": 9,
   "metadata": {},
   "outputs": [],
   "source": [
    "log_ds = dev_dataset.map(lambda text,label: text)\n",
    "sequence_length = 10\n",
    "tokenizer_layer = tf.keras.layers.TextVectorization(split= 'whitespace', output_mode= 'int',\n",
    "                                              output_sequence_length= sequence_length)\n",
    "tokenizer_layer.adapt(log_ds)\n",
    "vocab_size = tokenizer_layer.vocabulary_size()"
   ]
  },
  {
   "cell_type": "code",
   "execution_count": 10,
   "metadata": {},
   "outputs": [
    {
     "data": {
      "text/plain": [
       "420"
      ]
     },
     "execution_count": 10,
     "metadata": {},
     "output_type": "execute_result"
    }
   ],
   "source": [
    "vocab = 1000\n",
    "vocab_size"
   ]
  },
  {
   "cell_type": "code",
   "execution_count": 13,
   "metadata": {},
   "outputs": [],
   "source": [
    "LR = 0.001\n",
    "OPTIM = tf.keras.optimizers.Adam(learning_rate=LR)\n",
    "LOSS = \"binary_crossentropy\"\n",
    "filter = 10\n",
    "kernel = 5\n",
    "stride = 1\n",
    "pad= \"same\"\n",
    "embed_dim = 100\n",
    "\n",
    "def build_model():\n",
    "    \"\"\" 1DCNN doc\n",
    "\n",
    "    Parameters\n",
    "    ----------\n",
    "    file_path : str\n",
    "\n",
    "    Returns\n",
    "    -------\n",
    "    model : object\n",
    "        model\n",
    "    \"\"\"\n",
    "    input_layer = tf.keras.layers.Input(shape= (100))\n",
    "    embeding_layer = tf.keras.layers.Embedding(input_dim= vocab_size + 1,output_dim= embed_dim,\n",
    "                                               mask_zero= True)\n",
    "    DefaultConv1D = partial(tf.keras.layers.Conv1D, kernel_size= 3, strides= 1 , padding= pad, \n",
    "                           activation= 'relu')\n",
    "    DefualtMaxpool1D = partial(tf.keras.layers.MaxPool1D, pool_size= 2)\n",
    "    model = tf.keras.Sequential([input_layer, embeding_layer,\n",
    "                         DefaultConv1D(30),\n",
    "                         DefualtMaxpool1D(),\n",
    "                         tf.keras.layers.GlobalMaxPool1D(),\n",
    "                         tf.keras.layers.Dropout(0.5),\n",
    "                         tf.keras.layers.Dense(units= 20, activation= 'relu'),\n",
    "                         tf.keras.layers.Dropout(0.5),\n",
    "                         tf.keras.layers.Dense(units= 1, activation= 'sigmoid')\n",
    "                         ])\n",
    "    model.compile(loss= LOSS, optimizer= OPTIM, metrics= ['f1_score'])\n",
    "    return model"
   ]
  },
  {
   "cell_type": "code",
   "execution_count": 14,
   "metadata": {},
   "outputs": [
    {
     "name": "stdout",
     "output_type": "stream",
     "text": [
      "Model: \"sequential\"\n",
      "_________________________________________________________________\n",
      " Layer (type)                Output Shape              Param #   \n",
      "=================================================================\n",
      " embedding (Embedding)       (None, 100, 100)          42100     \n",
      "                                                                 \n",
      " conv1d (Conv1D)             (None, 100, 30)           9030      \n",
      "                                                                 \n",
      " max_pooling1d (MaxPooling1  (None, 50, 30)            0         \n",
      " D)                                                              \n",
      "                                                                 \n",
      " global_max_pooling1d (Glob  (None, 30)                0         \n",
      " alMaxPooling1D)                                                 \n",
      "                                                                 \n",
      " dropout (Dropout)           (None, 30)                0         \n",
      "                                                                 \n",
      " dense (Dense)               (None, 20)                620       \n",
      "                                                                 \n",
      " dropout_1 (Dropout)         (None, 20)                0         \n",
      "                                                                 \n",
      " dense_1 (Dense)             (None, 1)                 21        \n",
      "                                                                 \n",
      "=================================================================\n",
      "Total params: 51771 (202.23 KB)\n",
      "Trainable params: 51771 (202.23 KB)\n",
      "Non-trainable params: 0 (0.00 Byte)\n",
      "_________________________________________________________________\n"
     ]
    }
   ],
   "source": [
    "model = build_model()\n",
    "model.summary()"
   ]
  },
  {
   "cell_type": "code",
   "execution_count": 16,
   "metadata": {},
   "outputs": [
    {
     "data": {
      "text/plain": [
       "'/workspace/log_anomaly'"
      ]
     },
     "execution_count": 16,
     "metadata": {},
     "output_type": "execute_result"
    }
   ],
   "source": [
    "os.chdir('../')\n",
    "%pwd"
   ]
  },
  {
   "cell_type": "code",
   "execution_count": 17,
   "metadata": {},
   "outputs": [
    {
     "data": {
      "image/png": "[encoded data removed]",
      "text/plain": [
       "<IPython.core.display.Image object>"
      ]
     },
     "execution_count": 17,
     "metadata": {},
     "output_type": "execute_result"
    }
   ],
   "source": [
    "tf.keras.utils.plot_model(model,\n",
    "                          to_file= 'doc/model.png')"
   ]
  },
  {
   "cell_type": "code",
   "execution_count": null,
   "metadata": {},
   "outputs": [],
   "source": []
  }
 ],
 "metadata": {
  "kernelspec": {
   "display_name": "log-anaomly-Z6xKN3XP-py3.10",
   "language": "python",
   "name": "python3"
  },
  "language_info": {
   "codemirror_mode": {
    "name": "ipython",
    "version": 3
   },
   "file_extension": ".py",
   "mimetype": "text/x-python",
   "name": "python",
   "nbconvert_exporter": "python",
   "pygments_lexer": "ipython3",
   "version": "3.11.1"
  },
  "orig_nbformat": 4
 },
 "nbformat": 4,
 "nbformat_minor": 2
}
